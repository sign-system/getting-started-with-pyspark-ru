{
 "cells": [
  {
   "cell_type": "markdown",
   "id": "f78f41e1",
   "metadata": {},
   "source": [
    "# Практика PySpark и SparkSQL (Dataframe API)"
   ]
  },
  {
   "cell_type": "code",
   "execution_count": 1,
   "id": "d655b212",
   "metadata": {},
   "outputs": [
    {
     "name": "stderr",
     "output_type": "stream",
     "text": [
      "Setting default log level to \"WARN\".\n",
      "To adjust logging level use sc.setLogLevel(newLevel). For SparkR, use setLogLevel(newLevel).\n",
      "24/02/08 02:59:00 WARN NativeCodeLoader: Unable to load native-hadoop library for your platform... using builtin-java classes where applicable\n"
     ]
    }
   ],
   "source": [
    "# cоздаём SparkSession\n",
    "\n",
    "from pyspark.sql import SparkSession\n",
    "\n",
    "spark = SparkSession.builder.appName(\"Practice 2\").getOrCreate()"
   ]
  },
  {
   "cell_type": "code",
   "execution_count": 2,
   "id": "5ff7bea1",
   "metadata": {},
   "outputs": [
    {
     "data": {
      "text/html": [
       "\n",
       "            <div>\n",
       "                <p><b>SparkSession - in-memory</b></p>\n",
       "                \n",
       "        <div>\n",
       "            <p><b>SparkContext</b></p>\n",
       "\n",
       "            <p><a href=\"http://idea:4040\">Spark UI</a></p>\n",
       "\n",
       "            <dl>\n",
       "              <dt>Version</dt>\n",
       "                <dd><code>v3.5.0</code></dd>\n",
       "              <dt>Master</dt>\n",
       "                <dd><code>local[*]</code></dd>\n",
       "              <dt>AppName</dt>\n",
       "                <dd><code>Practice 2</code></dd>\n",
       "            </dl>\n",
       "        </div>\n",
       "        \n",
       "            </div>\n",
       "        "
      ],
      "text/plain": [
       "<pyspark.sql.session.SparkSession at 0x7fa24027d9f0>"
      ]
     },
     "execution_count": 2,
     "metadata": {},
     "output_type": "execute_result"
    }
   ],
   "source": [
    "spark"
   ]
  },
  {
   "cell_type": "markdown",
   "id": "7329a952",
   "metadata": {},
   "source": [
    "## Чтение текстовых данных"
   ]
  },
  {
   "cell_type": "markdown",
   "id": "f988eb6f",
   "metadata": {},
   "source": [
    "Данные [отсюда](https://www.kaggle.com/lepchenkov/usedcarscatalog) (Kaggle)"
   ]
  },
  {
   "cell_type": "code",
   "execution_count": 2,
   "id": "0c557a27",
   "metadata": {},
   "outputs": [
    {
     "name": "stdout",
     "output_type": "stream",
     "text": [
      "manufacturer_name,model_name,transmission,color,odometer_value,year_produced,engine_fuel,engine_has_gas,engine_type,engine_capacity,body_type,has_warranty,state,drivetrain,price_usd,is_exchangeable,location_region,number_of_photos,up_counter,feature_0,feature_1,feature_2,feature_3,feature_4,feature_5,feature_6,feature_7,feature_8,feature_9,duration_listed\r\n",
      "Subaru,Outback,automatic,silver,190000,2010,gasoline,False,gasoline,2.5,universal,False,owned,all,10900.0,False,Минская обл.,9,13,False,True,True,True,False,True,False,True,True,True,16\r\n",
      "Subaru,Outback,automatic,blue,290000,2002,gasoline,False,gasoline,3.0,universal,False,owned,all,5000.0,True,Минская обл.,12,54,False,True,False,False,True,True,False,False,False,True,83\r\n",
      "Subaru,Forester,automatic,red,402000,2001,gasoline,False,gasoline,2.5,suv,False,owned,all,2800.0,True,Минская обл.,4,72,False,True,False,False,False,False,False,False,True,True,151\r\n",
      "Subaru,Impreza,mechanical,blue,10000,1999,gasoline,False,gasoline,3.0,sedan,False,owned,all,9999.0,True,Минская обл.,9,42,True,False,False,False,False,False,False,False,False,False,86\r\n"
     ]
    }
   ],
   "source": [
    "!head -n5 data/cars.csv"
   ]
  },
  {
   "cell_type": "code",
   "execution_count": 3,
   "id": "2ce2d68a",
   "metadata": {},
   "outputs": [],
   "source": [
    "# читаем данные в DataFrame c автоматическим определение схемы:\n",
    "\n",
    "df = spark.read.format(\"csv\").option(\"header\", \"true\").load(\"data/cars.csv\")"
   ]
  },
  {
   "cell_type": "markdown",
   "id": "5a5e2df1",
   "metadata": {},
   "source": [
    "## Смотрим на данные"
   ]
  },
  {
   "cell_type": "code",
   "execution_count": 4,
   "id": "7a58423a",
   "metadata": {},
   "outputs": [
    {
     "name": "stdout",
     "output_type": "stream",
     "text": [
      "+-----------------+----------+------------+------+--------------+-------------+-----------+--------------+-----------+---------------+---------+------------+-----+----------+---------+---------------+---------------+----------------+----------+---------+---------+---------+---------+---------+---------+---------+---------+---------+---------+---------------+\n",
      "|manufacturer_name|model_name|transmission| color|odometer_value|year_produced|engine_fuel|engine_has_gas|engine_type|engine_capacity|body_type|has_warranty|state|drivetrain|price_usd|is_exchangeable|location_region|number_of_photos|up_counter|feature_0|feature_1|feature_2|feature_3|feature_4|feature_5|feature_6|feature_7|feature_8|feature_9|duration_listed|\n",
      "+-----------------+----------+------------+------+--------------+-------------+-----------+--------------+-----------+---------------+---------+------------+-----+----------+---------+---------------+---------------+----------------+----------+---------+---------+---------+---------+---------+---------+---------+---------+---------+---------+---------------+\n",
      "|           Subaru|   Outback|   automatic|silver|        190000|         2010|   gasoline|         False|   gasoline|            2.5|universal|       False|owned|       all|  10900.0|          False|   Минская обл.|               9|        13|    False|     True|     True|     True|    False|     True|    False|     True|     True|     True|             16|\n",
      "|           Subaru|   Outback|   automatic|  blue|        290000|         2002|   gasoline|         False|   gasoline|            3.0|universal|       False|owned|       all|   5000.0|           True|   Минская обл.|              12|        54|    False|     True|    False|    False|     True|     True|    False|    False|    False|     True|             83|\n",
      "|           Subaru|  Forester|   automatic|   red|        402000|         2001|   gasoline|         False|   gasoline|            2.5|      suv|       False|owned|       all|   2800.0|           True|   Минская обл.|               4|        72|    False|     True|    False|    False|    False|    False|    False|    False|     True|     True|            151|\n",
      "|           Subaru|   Impreza|  mechanical|  blue|         10000|         1999|   gasoline|         False|   gasoline|            3.0|    sedan|       False|owned|       all|   9999.0|           True|   Минская обл.|               9|        42|     True|    False|    False|    False|    False|    False|    False|    False|    False|    False|             86|\n",
      "|           Subaru|    Legacy|   automatic| black|        280000|         2001|   gasoline|         False|   gasoline|            2.5|universal|       False|owned|       all|  2134.11|           True|Гомельская обл.|              14|         7|    False|     True|    False|     True|     True|    False|    False|    False|    False|     True|              7|\n",
      "+-----------------+----------+------------+------+--------------+-------------+-----------+--------------+-----------+---------------+---------+------------+-----+----------+---------+---------------+---------------+----------------+----------+---------+---------+---------+---------+---------+---------+---------+---------+---------+---------+---------------+\n",
      "only showing top 5 rows\n",
      "\n"
     ]
    }
   ],
   "source": [
    "# вывести в консоль 5 строк из датафрейма:\n",
    "\n",
    "df.show(5)"
   ]
  },
  {
   "cell_type": "markdown",
   "id": "5d127d83",
   "metadata": {},
   "source": [
    "Дополнительный параметр `vertical=True` выведет каждую строку данных построчно в виде `колонка | значение`"
   ]
  },
  {
   "cell_type": "code",
   "execution_count": 5,
   "id": "98ac6f3b",
   "metadata": {},
   "outputs": [
    {
     "name": "stdout",
     "output_type": "stream",
     "text": [
      "-RECORD 0-------------------------\n",
      " manufacturer_name | Subaru       \n",
      " model_name        | Outback      \n",
      " transmission      | automatic    \n",
      " color             | silver       \n",
      " odometer_value    | 190000       \n",
      " year_produced     | 2010         \n",
      " engine_fuel       | gasoline     \n",
      " engine_has_gas    | False        \n",
      " engine_type       | gasoline     \n",
      " engine_capacity   | 2.5          \n",
      " body_type         | universal    \n",
      " has_warranty      | False        \n",
      " state             | owned        \n",
      " drivetrain        | all          \n",
      " price_usd         | 10900.0      \n",
      " is_exchangeable   | False        \n",
      " location_region   | Минская обл. \n",
      " number_of_photos  | 9            \n",
      " up_counter        | 13           \n",
      " feature_0         | False        \n",
      " feature_1         | True         \n",
      " feature_2         | True         \n",
      " feature_3         | True         \n",
      " feature_4         | False        \n",
      " feature_5         | True         \n",
      " feature_6         | False        \n",
      " feature_7         | True         \n",
      " feature_8         | True         \n",
      " feature_9         | True         \n",
      " duration_listed   | 16           \n",
      "only showing top 1 row\n",
      "\n"
     ]
    }
   ],
   "source": [
    "df.show(1, vertical=True)"
   ]
  },
  {
   "cell_type": "markdown",
   "id": "a890b45d",
   "metadata": {},
   "source": [
    "# Смотрим на DataFrame API"
   ]
  },
  {
   "cell_type": "markdown",
   "id": "5a76eb3f",
   "metadata": {},
   "source": [
    "## .select()"
   ]
  },
  {
   "cell_type": "markdown",
   "id": "ba88c923",
   "metadata": {},
   "source": [
    ".select() выберет только нужные колонки (по аналогии с выражением `SELECT` в SQL)"
   ]
  },
  {
   "cell_type": "code",
   "execution_count": 6,
   "id": "b9ed2b65",
   "metadata": {},
   "outputs": [
    {
     "name": "stdout",
     "output_type": "stream",
     "text": [
      "+-----------------+----------+------------+\n",
      "|manufacturer_name|model_name|transmission|\n",
      "+-----------------+----------+------------+\n",
      "|           Subaru|   Outback|   automatic|\n",
      "|           Subaru|   Outback|   automatic|\n",
      "|           Subaru|  Forester|   automatic|\n",
      "|           Subaru|   Impreza|  mechanical|\n",
      "|           Subaru|    Legacy|   automatic|\n",
      "+-----------------+----------+------------+\n",
      "only showing top 5 rows\n",
      "\n"
     ]
    }
   ],
   "source": [
    "# выбираем несколько колонок для отображения\n",
    "\n",
    "df.select(\"manufacturer_name\", \"model_name\", \"transmission\").show(5)"
   ]
  },
  {
   "cell_type": "markdown",
   "id": "2ae167a0",
   "metadata": {},
   "source": [
    "Можно обратиться к колонке через указание датафрейма:"
   ]
  },
  {
   "cell_type": "code",
   "execution_count": 7,
   "id": "0ac6787d",
   "metadata": {},
   "outputs": [
    {
     "name": "stdout",
     "output_type": "stream",
     "text": [
      "+-----------------+----------+------------+\n",
      "|manufacturer_name|model_name|transmission|\n",
      "+-----------------+----------+------------+\n",
      "|           Subaru|   Outback|   automatic|\n",
      "|           Subaru|   Outback|   automatic|\n",
      "|           Subaru|  Forester|   automatic|\n",
      "|           Subaru|   Impreza|  mechanical|\n",
      "|           Subaru|    Legacy|   automatic|\n",
      "+-----------------+----------+------------+\n",
      "only showing top 5 rows\n",
      "\n"
     ]
    }
   ],
   "source": [
    "df.select(df[\"manufacturer_name\"], df[\"model_name\"], df[\"transmission\"]).show(5)"
   ]
  },
  {
   "cell_type": "markdown",
   "id": "accd077f",
   "metadata": {},
   "source": [
    "Или используя функцию колонки `.col()` из пакета `functions`"
   ]
  },
  {
   "cell_type": "code",
   "execution_count": 8,
   "id": "d27b3b3a",
   "metadata": {},
   "outputs": [
    {
     "name": "stdout",
     "output_type": "stream",
     "text": [
      "+-----------------+----------+------------+\n",
      "|manufacturer_name|model_name|transmission|\n",
      "+-----------------+----------+------------+\n",
      "|           Subaru|   Outback|   automatic|\n",
      "|           Subaru|   Outback|   automatic|\n",
      "|           Subaru|  Forester|   automatic|\n",
      "|           Subaru|   Impreza|  mechanical|\n",
      "|           Subaru|    Legacy|   automatic|\n",
      "+-----------------+----------+------------+\n",
      "only showing top 5 rows\n",
      "\n"
     ]
    }
   ],
   "source": [
    "import pyspark.sql.functions as F\n",
    "\n",
    "df.select(F.col(\"manufacturer_name\"), F.col(\"model_name\"), F.col(\"transmission\")).show(5)"
   ]
  },
  {
   "cell_type": "markdown",
   "id": "2a6b303b",
   "metadata": {},
   "source": [
    "# .filter()"
   ]
  },
  {
   "cell_type": "markdown",
   "id": "c18dff7f",
   "metadata": {},
   "source": [
    "Метод .filter() принимает условия для фильтрации:"
   ]
  },
  {
   "cell_type": "code",
   "execution_count": 9,
   "id": "de4b59e8",
   "metadata": {},
   "outputs": [
    {
     "name": "stdout",
     "output_type": "stream",
     "text": [
      "+-----------------+----------+------------+\n",
      "|manufacturer_name|model_name|transmission|\n",
      "+-----------------+----------+------------+\n",
      "|             Audi|        Q7|   automatic|\n",
      "|             Audi|        TT|   automatic|\n",
      "|             Audi|       100|  mechanical|\n",
      "|             Audi|        A6|   automatic|\n",
      "|             Audi|        Q3|   automatic|\n",
      "+-----------------+----------+------------+\n",
      "only showing top 5 rows\n",
      "\n"
     ]
    }
   ],
   "source": [
    "# выберем только марки Audi\n",
    "\n",
    "df.select(\"manufacturer_name\", \"model_name\", \"transmission\").filter(\"manufacturer_name = 'Audi'\").show(5)"
   ]
  },
  {
   "cell_type": "markdown",
   "id": "69813c14",
   "metadata": {},
   "source": [
    "Цепочка условий:"
   ]
  },
  {
   "cell_type": "code",
   "execution_count": 10,
   "id": "89fb0f0c",
   "metadata": {},
   "outputs": [
    {
     "name": "stdout",
     "output_type": "stream",
     "text": [
      "+-----------------+----------+------------+\n",
      "|manufacturer_name|model_name|transmission|\n",
      "+-----------------+----------+------------+\n",
      "|             Audi|       100|  mechanical|\n",
      "|             Audi|A6 Allroad|  mechanical|\n",
      "|             Audi|       100|  mechanical|\n",
      "|             Audi|        A4|  mechanical|\n",
      "|             Audi|        80|  mechanical|\n",
      "+-----------------+----------+------------+\n",
      "only showing top 5 rows\n",
      "\n"
     ]
    }
   ],
   "source": [
    "# выберем только марки Audi и ручной коробкой\n",
    "\n",
    "(\n",
    "    df\n",
    "    .select(\"manufacturer_name\", \"model_name\", \"transmission\")\n",
    "    .filter(\"manufacturer_name = 'Audi'\")\n",
    "    .filter(\"transmission = 'mechanical'\")\n",
    "    .show(5)\n",
    ")"
   ]
  },
  {
   "cell_type": "markdown",
   "id": "3edc4805",
   "metadata": {},
   "source": [
    "Цепочка условий в виде одного SQL выражения:"
   ]
  },
  {
   "cell_type": "code",
   "execution_count": 11,
   "id": "fbfd1c20",
   "metadata": {},
   "outputs": [
    {
     "name": "stdout",
     "output_type": "stream",
     "text": [
      "+-----------------+----------+------------+\n",
      "|manufacturer_name|model_name|transmission|\n",
      "+-----------------+----------+------------+\n",
      "|             Audi|       100|  mechanical|\n",
      "|             Audi|A6 Allroad|  mechanical|\n",
      "|             Audi|       100|  mechanical|\n",
      "|             Audi|        A4|  mechanical|\n",
      "|             Audi|        80|  mechanical|\n",
      "+-----------------+----------+------------+\n",
      "only showing top 5 rows\n",
      "\n"
     ]
    }
   ],
   "source": [
    "(\n",
    "    df\n",
    "    .select(\"manufacturer_name\", \"model_name\", \"transmission\")\n",
    "    .filter(\"manufacturer_name = 'Audi' and transmission = 'mechanical'\")\n",
    "    .show(5)\n",
    ")"
   ]
  },
  {
   "cell_type": "markdown",
   "id": "02b0611e",
   "metadata": {},
   "source": [
    "Удобнее и логичнее использовать `col()` для составления условий фильтрации:"
   ]
  },
  {
   "cell_type": "code",
   "execution_count": 12,
   "id": "c8f6a97c",
   "metadata": {},
   "outputs": [
    {
     "name": "stdout",
     "output_type": "stream",
     "text": [
      "+-----------------+----------+------------+\n",
      "|manufacturer_name|model_name|transmission|\n",
      "+-----------------+----------+------------+\n",
      "|             Audi|        Q7|   automatic|\n",
      "|             Audi|        TT|   automatic|\n",
      "|             Audi|        A6|   automatic|\n",
      "|             Audi|        Q3|   automatic|\n",
      "|             Audi|        Q5|   automatic|\n",
      "+-----------------+----------+------------+\n",
      "only showing top 5 rows\n",
      "\n"
     ]
    }
   ],
   "source": [
    "(\n",
    "    df\n",
    "    .select(\"manufacturer_name\", \"model_name\", \"transmission\")\n",
    "    .filter(F.col(\"manufacturer_name\") == \"Audi\")\n",
    "    .filter(F.col(\"transmission\") != \"mechanical\")\n",
    "    .show(5)\n",
    ")"
   ]
  },
  {
   "cell_type": "markdown",
   "id": "b77dbc1f",
   "metadata": {},
   "source": [
    "## .count()"
   ]
  },
  {
   "cell_type": "markdown",
   "id": "d6525876",
   "metadata": {},
   "source": [
    "Подсчет кол-ва строк:"
   ]
  },
  {
   "cell_type": "code",
   "execution_count": 13,
   "id": "2117cc13",
   "metadata": {},
   "outputs": [
    {
     "data": {
      "text/plain": [
       "38531"
      ]
     },
     "execution_count": 13,
     "metadata": {},
     "output_type": "execute_result"
    }
   ],
   "source": [
    "df.count()"
   ]
  },
  {
   "cell_type": "markdown",
   "id": "1226d908",
   "metadata": {},
   "source": [
    "Либо уникальных строк:"
   ]
  },
  {
   "cell_type": "code",
   "execution_count": 14,
   "id": "98fd3ff5",
   "metadata": {},
   "outputs": [
    {
     "data": {
      "text/plain": [
       "55"
      ]
     },
     "execution_count": 14,
     "metadata": {},
     "output_type": "execute_result"
    }
   ],
   "source": [
    "df.select(\"manufacturer_name\").distinct().count()"
   ]
  },
  {
   "cell_type": "markdown",
   "id": "e665aacf",
   "metadata": {},
   "source": [
    "## .groupBy() and .orderBy()"
   ]
  },
  {
   "cell_type": "markdown",
   "id": "f879cff9",
   "metadata": {},
   "source": [
    "Группировка и агрегация (аналог `GROUP BY` в SQL):"
   ]
  },
  {
   "cell_type": "code",
   "execution_count": 15,
   "id": "d88bb3f7",
   "metadata": {},
   "outputs": [
    {
     "name": "stdout",
     "output_type": "stream",
     "text": [
      "+-----------------+-----+\n",
      "|manufacturer_name|count|\n",
      "+-----------------+-----+\n",
      "|       Volkswagen| 4243|\n",
      "|         Infiniti|  162|\n",
      "|          Peugeot| 1909|\n",
      "|            Lexus|  213|\n",
      "|           Jaguar|   53|\n",
      "+-----------------+-----+\n",
      "only showing top 5 rows\n",
      "\n"
     ]
    }
   ],
   "source": [
    "# сгрупировать по manufacturer_name и посчитать кол-во каждого\n",
    "\n",
    "df.groupBy(\"manufacturer_name\").count().show(5)"
   ]
  },
  {
   "cell_type": "markdown",
   "id": "f5b4fe18",
   "metadata": {},
   "source": [
    "Сортировка по колонке по возрастанию:"
   ]
  },
  {
   "cell_type": "code",
   "execution_count": 16,
   "id": "61567a01",
   "metadata": {},
   "outputs": [
    {
     "name": "stdout",
     "output_type": "stream",
     "text": [
      "+-----------------+-----+\n",
      "|manufacturer_name|count|\n",
      "+-----------------+-----+\n",
      "|          Lincoln|   36|\n",
      "|       Great Wall|   36|\n",
      "|              ЗАЗ|   42|\n",
      "|          Pontiac|   42|\n",
      "|         Cadillac|   43|\n",
      "+-----------------+-----+\n",
      "only showing top 5 rows\n",
      "\n"
     ]
    }
   ],
   "source": [
    "df.groupBy(\"manufacturer_name\").count().orderBy(\"count\").show(5)"
   ]
  },
  {
   "cell_type": "markdown",
   "id": "043adcaa",
   "metadata": {},
   "source": [
    "Сортировка по колонке по убыванию. Тут надо явно задать колонку через `col()`:"
   ]
  },
  {
   "cell_type": "code",
   "execution_count": 17,
   "id": "99dc734c",
   "metadata": {},
   "outputs": [
    {
     "name": "stdout",
     "output_type": "stream",
     "text": [
      "+-----------------+-----+\n",
      "|manufacturer_name|count|\n",
      "+-----------------+-----+\n",
      "|       Volkswagen| 4243|\n",
      "|             Opel| 2759|\n",
      "|              BMW| 2610|\n",
      "|             Ford| 2566|\n",
      "|          Renault| 2493|\n",
      "+-----------------+-----+\n",
      "only showing top 5 rows\n",
      "\n"
     ]
    }
   ],
   "source": [
    "df.groupBy(\"manufacturer_name\").count().orderBy(F.col(\"count\").desc()).show(5)"
   ]
  },
  {
   "cell_type": "markdown",
   "id": "87db5357",
   "metadata": {},
   "source": [
    "## .withColumnRenamed() and .withColumn()"
   ]
  },
  {
   "cell_type": "markdown",
   "id": "3fcb37eb",
   "metadata": {},
   "source": [
    "Переименовать существующую колонку:"
   ]
  },
  {
   "cell_type": "code",
   "execution_count": 18,
   "id": "aa479d65",
   "metadata": {},
   "outputs": [
    {
     "name": "stdout",
     "output_type": "stream",
     "text": [
      "+------------+\n",
      "|manufacturer|\n",
      "+------------+\n",
      "|      Subaru|\n",
      "|      Subaru|\n",
      "|      Subaru|\n",
      "|      Subaru|\n",
      "|      Subaru|\n",
      "+------------+\n",
      "only showing top 5 rows\n",
      "\n"
     ]
    }
   ],
   "source": [
    "df.withColumnRenamed(\"manufacturer_name\", \"manufacturer\").select(\"manufacturer\").show(5)"
   ]
  },
  {
   "cell_type": "markdown",
   "id": "dd1b5a69",
   "metadata": {},
   "source": [
    "Создать новую колонку. Первый аргумент это название новой колонки, второй агрумент это выражение (обязательно использовать `col()` если ссылаемся на другую колонку):"
   ]
  },
  {
   "cell_type": "code",
   "execution_count": 19,
   "id": "12dd791c",
   "metadata": {},
   "outputs": [
    {
     "name": "stdout",
     "output_type": "stream",
     "text": [
      "+-------------+---------+\n",
      "|year_produced|next_year|\n",
      "+-------------+---------+\n",
      "|         2010|   2011.0|\n",
      "|         2002|   2003.0|\n",
      "|         2001|   2002.0|\n",
      "|         1999|   2000.0|\n",
      "|         2001|   2002.0|\n",
      "+-------------+---------+\n",
      "only showing top 5 rows\n",
      "\n"
     ]
    }
   ],
   "source": [
    "df.withColumn(\"next_year\", F.col(\"year_produced\") + 1).select(\"year_produced\", \"next_year\").show(5)"
   ]
  },
  {
   "cell_type": "markdown",
   "id": "f58d530c",
   "metadata": {},
   "source": [
    "## .printSchema() and .describe()"
   ]
  },
  {
   "cell_type": "markdown",
   "id": "901dad7e",
   "metadata": {},
   "source": [
    "Вывести схему датафрейма (типы колонок):"
   ]
  },
  {
   "cell_type": "code",
   "execution_count": 20,
   "id": "a9863983",
   "metadata": {},
   "outputs": [
    {
     "name": "stdout",
     "output_type": "stream",
     "text": [
      "root\n",
      " |-- manufacturer_name: string (nullable = true)\n",
      " |-- model_name: string (nullable = true)\n",
      " |-- transmission: string (nullable = true)\n",
      " |-- color: string (nullable = true)\n",
      " |-- odometer_value: string (nullable = true)\n",
      " |-- year_produced: string (nullable = true)\n",
      " |-- engine_fuel: string (nullable = true)\n",
      " |-- engine_has_gas: string (nullable = true)\n",
      " |-- engine_type: string (nullable = true)\n",
      " |-- engine_capacity: string (nullable = true)\n",
      " |-- body_type: string (nullable = true)\n",
      " |-- has_warranty: string (nullable = true)\n",
      " |-- state: string (nullable = true)\n",
      " |-- drivetrain: string (nullable = true)\n",
      " |-- price_usd: string (nullable = true)\n",
      " |-- is_exchangeable: string (nullable = true)\n",
      " |-- location_region: string (nullable = true)\n",
      " |-- number_of_photos: string (nullable = true)\n",
      " |-- up_counter: string (nullable = true)\n",
      " |-- feature_0: string (nullable = true)\n",
      " |-- feature_1: string (nullable = true)\n",
      " |-- feature_2: string (nullable = true)\n",
      " |-- feature_3: string (nullable = true)\n",
      " |-- feature_4: string (nullable = true)\n",
      " |-- feature_5: string (nullable = true)\n",
      " |-- feature_6: string (nullable = true)\n",
      " |-- feature_7: string (nullable = true)\n",
      " |-- feature_8: string (nullable = true)\n",
      " |-- feature_9: string (nullable = true)\n",
      " |-- duration_listed: string (nullable = true)\n",
      "\n"
     ]
    }
   ],
   "source": [
    "df.printSchema()"
   ]
  },
  {
   "cell_type": "code",
   "execution_count": 21,
   "id": "23029269",
   "metadata": {},
   "outputs": [
    {
     "data": {
      "text/plain": [
       "StructType(List(StructField(manufacturer_name,StringType,true),StructField(model_name,StringType,true),StructField(transmission,StringType,true),StructField(color,StringType,true),StructField(odometer_value,StringType,true),StructField(year_produced,StringType,true),StructField(engine_fuel,StringType,true),StructField(engine_has_gas,StringType,true),StructField(engine_type,StringType,true),StructField(engine_capacity,StringType,true),StructField(body_type,StringType,true),StructField(has_warranty,StringType,true),StructField(state,StringType,true),StructField(drivetrain,StringType,true),StructField(price_usd,StringType,true),StructField(is_exchangeable,StringType,true),StructField(location_region,StringType,true),StructField(number_of_photos,StringType,true),StructField(up_counter,StringType,true),StructField(feature_0,StringType,true),StructField(feature_1,StringType,true),StructField(feature_2,StringType,true),StructField(feature_3,StringType,true),StructField(feature_4,StringType,true),StructField(feature_5,StringType,true),StructField(feature_6,StringType,true),StructField(feature_7,StringType,true),StructField(feature_8,StringType,true),StructField(feature_9,StringType,true),StructField(duration_listed,StringType,true)))"
      ]
     },
     "execution_count": 21,
     "metadata": {},
     "output_type": "execute_result"
    }
   ],
   "source": [
    "df.schema"
   ]
  },
  {
   "cell_type": "markdown",
   "id": "fa65329c",
   "metadata": {},
   "source": [
    "Вывести сводную статистику по датафрейму:"
   ]
  },
  {
   "cell_type": "code",
   "execution_count": 22,
   "id": "4ed019c5",
   "metadata": {},
   "outputs": [
    {
     "name": "stdout",
     "output_type": "stream",
     "text": [
      "+-------+-----------------+------------------+------------------+-----------------+\n",
      "|summary|manufacturer_name|        model_name|     year_produced|        price_usd|\n",
      "+-------+-----------------+------------------+------------------+-----------------+\n",
      "|  count|            38531|             38531|             38531|            38531|\n",
      "|   mean|             null|1168.2918056562726|2002.9437336170874|6639.971021255605|\n",
      "| stddev|             null| 9820.119520829581| 8.065730511309935|6428.152018202911|\n",
      "|    min|            Acura|               100|              1942|              1.0|\n",
      "|    max|              УАЗ|            Таврия|              2019|           9999.0|\n",
      "+-------+-----------------+------------------+------------------+-----------------+\n",
      "\n"
     ]
    }
   ],
   "source": [
    "df.select(\"manufacturer_name\", \"model_name\", \"year_produced\", \"price_usd\").describe().show()"
   ]
  },
  {
   "cell_type": "code",
   "execution_count": null,
   "id": "cd8bb4c3",
   "metadata": {},
   "outputs": [],
   "source": []
  },
  {
   "cell_type": "code",
   "execution_count": 23,
   "id": "22854219",
   "metadata": {},
   "outputs": [],
   "source": [
    "spark.stop()"
   ]
  },
  {
   "cell_type": "code",
   "execution_count": null,
   "id": "90f4dcc1",
   "metadata": {},
   "outputs": [],
   "source": []
  }
 ],
 "metadata": {
  "kernelspec": {
   "display_name": "Python 3",
   "language": "python",
   "name": "python3"
  },
  "language_info": {
   "codemirror_mode": {
    "name": "ipython",
    "version": 3
   },
   "file_extension": ".py",
   "mimetype": "text/x-python",
   "name": "python",
   "nbconvert_exporter": "python",
   "pygments_lexer": "ipython3",
   "version": "3.10.12"
  }
 },
 "nbformat": 4,
 "nbformat_minor": 5
}
